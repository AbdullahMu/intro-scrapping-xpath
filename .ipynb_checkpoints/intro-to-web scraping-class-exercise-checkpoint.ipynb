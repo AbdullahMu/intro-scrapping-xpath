{
 "cells": [
  {
   "cell_type": "markdown",
   "metadata": {},
   "source": [
    "<img src=\"http://imgur.com/1ZcRyrc.png\" style=\"float: left; margin: 20px; height: 55px\">\n",
    "\n",
    "# Introduction to Web Scraping (Class Exercise)\n",
    "_Instructor: Esraa Madi_\n",
    "\n",
    "\n",
    "---\n",
    "\n",
    "### Learning Objectives\n",
    "- Understand scraping basics\n",
    "- Understand the structure and content of HTML\n",
    "- Utilize XPath to extract information from HTML \n"
   ]
  },
  {
   "cell_type": "markdown",
   "metadata": {},
   "source": [
    "###  Scraping Basics\n",
    "---\n",
    "\n",
    "Web scraping is a technique of extracting information from websites. It focuses on transformation of unstructured data on the web, into structured data that can be stored and analyzed.\n",
    "\n",
    "\n",
    "\n",
    "<img src=\"https://qph.fs.quoracdn.net/main-qimg-fde134489703c360ae2248e6b0145684\">\n"
   ]
  },
  {
   "cell_type": "markdown",
   "metadata": {},
   "source": [
    "###  Web Pages Structure\n",
    "---\n",
    "\n",
    "\n",
    "#### HTML Structure:\n",
    "\n",
    "```html\n",
    "<html>\n",
    "    <title id=\"main-title\">Hello DSI3!</title>\n",
    "    <body>\n",
    "        <div>\n",
    "            <p>  Web Scraping I </p>\n",
    "            <p name=\"p2\"> Web Scraping II </p>\n",
    "        </div>\n",
    "    </body>\n",
    "</html>\n",
    "```"
   ]
  },
  {
   "cell_type": "code",
   "execution_count": null,
   "metadata": {},
   "outputs": [],
   "source": [
    "## Elements ? "
   ]
  },
  {
   "cell_type": "code",
   "execution_count": 2,
   "metadata": {},
   "outputs": [],
   "source": [
    "## Element Parent / Child ?"
   ]
  },
  {
   "cell_type": "code",
   "execution_count": null,
   "metadata": {},
   "outputs": [],
   "source": [
    "## Element Attributes?"
   ]
  },
  {
   "cell_type": "markdown",
   "metadata": {},
   "source": [
    "### What is XPath?\n",
    "---\n",
    "\n",
    "- XPath is defined as **XML path**.\n",
    "- **It is a syntax or language for finding any element on the web page using XML path expression**. XPath is used to find the location of any element on a webpage using HTML DOM structure."
   ]
  },
  {
   "cell_type": "markdown",
   "metadata": {},
   "source": [
    "**Using XPath expressions, we can access the following:**\n",
    "- Element:\n",
    "```HTML\n",
    "<p>This is a paragraph</p>'.\n",
    "```\n",
    "- Attribute:\n",
    "```HTML\n",
    "<a href=\"https://www.wikipedia.org/\"> link <a>.\n",
    "```\n",
    "- Text:\n",
    "```HTML\n",
    "<h1> I have something to say\"</h1>\n",
    "```"
   ]
  },
  {
   "cell_type": "code",
   "execution_count": 4,
   "metadata": {},
   "outputs": [],
   "source": [
    "#### Web scraping steps :\n",
    "\n",
    "## Step 1 : Download Html page \n",
    "## Step 2 : Parsing data (xpath)\n",
    "## Step 3 : Save data in dataframe"
   ]
  },
  {
   "cell_type": "markdown",
   "metadata": {},
   "source": [
    "### Exercise 1:\n",
    "---\n",
    "\n",
    "```HTML\n",
    "<html>\n",
    "   <title id=\"main-title\">All this scraping is making me itch!</title>\n",
    "   <body>\n",
    "   \n",
    "       <h1>Welcome to my Homepage</h1>\n",
    "       \n",
    "       <p id=\"welcome-paragraph\" class=\"strong-paragraph bold-paragraph\">\n",
    "       \n",
    "           <span>Hello friends, let me tell you about this cool hair product..</span>\n",
    "           \n",
    "           <a href=\"https://www.wikipedia.org/\"> \n",
    "               <h1 id=\"h1_id\"> Welcome to my subpage </h1> \n",
    "           </a>\n",
    "           \n",
    "           <span>Hello again</span>\n",
    "           \n",
    "       </p>\n",
    "   </body>\n",
    "</html>\n",
    "```"
   ]
  },
  {
   "cell_type": "code",
   "execution_count": 4,
   "metadata": {},
   "outputs": [],
   "source": [
    "## Step 1 : Download Html page \n"
   ]
  },
  {
   "cell_type": "code",
   "execution_count": 1,
   "metadata": {},
   "outputs": [],
   "source": [
    "## Step 2 : Parsing data\n"
   ]
  },
  {
   "cell_type": "code",
   "execution_count": 166,
   "metadata": {},
   "outputs": [],
   "source": [
    "#!pip install scrapy"
   ]
  },
  {
   "cell_type": "code",
   "execution_count": 28,
   "metadata": {},
   "outputs": [],
   "source": [
    "from scrapy import Selector\n"
   ]
  },
  {
   "cell_type": "code",
   "execution_count": 135,
   "metadata": {},
   "outputs": [],
   "source": [
    "## Step 3 : Save data in dataframe\n"
   ]
  },
  {
   "cell_type": "markdown",
   "metadata": {},
   "source": [
    "### Exercise 2 :\n",
    "---"
   ]
  },
  {
   "cell_type": "markdown",
   "metadata": {},
   "source": [
    "In this example, we will find Waldo together. Find Waldo as:\n",
    "\n",
    "- Element\n",
    "- Element using (id)\n",
    "- Attribute (href)\n",
    "- Text"
   ]
  },
  {
   "cell_type": "code",
   "execution_count": 169,
   "metadata": {},
   "outputs": [],
   "source": [
    "## Step 1 : Download Html page \n",
    "\n",
    "HTML = \"\"\"\n",
    "<html>\n",
    "    <body>\n",
    "        \n",
    "        <ul id=\"waldo\">\n",
    "            <li class=\"waldo\">\n",
    "                <span> yo Im not here</span>\n",
    "            </li>\n",
    "            <li class=\"waldo\">Height:  ???</li>\n",
    "            <li class=\"waldo\">Weight:  ???</li>\n",
    "            <li class=\"waldo\">Last Location:  ???</li>\n",
    "            <li class=\"nerds\">\n",
    "                <div class=\"alpha\">Bill gates</div>\n",
    "                <div class=\"alpha\">Zuckerberg</div>\n",
    "                <div class=\"beta\">Theil</div>\n",
    "            </li>\n",
    "        </ul>\n",
    "        \n",
    "        <ul id=\"tim\">\n",
    "            <li class=\"tdawg\">\n",
    "                <span>yo im here</span>\n",
    "            </li>\n",
    "        </ul>\n",
    "        <li>stuff</li>\n",
    "        <li>stuff2</li>\n",
    "        \n",
    "        <div id=\"cooldiv\">\n",
    "            <a href=\"Waldo\">\n",
    "               YO!\n",
    "            </a>\n",
    "        </div>\n",
    "        \n",
    "        \n",
    "        <waldo>Waldo</waldo>\n",
    "    </body>\n",
    "</html>\n",
    "\"\"\""
   ]
  },
  {
   "cell_type": "code",
   "execution_count": 184,
   "metadata": {},
   "outputs": [],
   "source": [
    "## Step 2 : Parsing data"
   ]
  },
  {
   "cell_type": "code",
   "execution_count": 170,
   "metadata": {},
   "outputs": [],
   "source": [
    "# Element\n"
   ]
  },
  {
   "cell_type": "code",
   "execution_count": 181,
   "metadata": {},
   "outputs": [],
   "source": [
    "# Element using (id)\n"
   ]
  },
  {
   "cell_type": "code",
   "execution_count": 186,
   "metadata": {},
   "outputs": [],
   "source": [
    "# Attribute (href)\n"
   ]
  },
  {
   "cell_type": "code",
   "execution_count": 193,
   "metadata": {},
   "outputs": [],
   "source": [
    "# Text\n"
   ]
  },
  {
   "cell_type": "code",
   "execution_count": null,
   "metadata": {},
   "outputs": [],
   "source": [
    "## Step 3 : Save data in dataframe"
   ]
  },
  {
   "cell_type": "markdown",
   "metadata": {},
   "source": [
    "### Exercise 3 :\n",
    "---\n",
    "\n",
    "<img src=\"https://www.absolutegeeks.com/wp-content/uploads/2016/11/196945-souq-logo-secondary-en-web-f8e9a3-original-1456722541.png\" style=\"float: left; margin: 20px; height: 55px\">\n",
    "<br>\n",
    "\n",
    "## Let's Scrape (Mobiles prices / Souq Saudi) headlines\n",
    "\n",
    "<br>\n",
    "Souq is a Middle East’s online marketplace. Let's take their [Mobile](https://saudi.souq.com/sa-en/apple/mobile-phones-33/new/a-t-c/s/?_=1459842493768&page=1&ref=nav) headlines using Python **requests**, and practice selecting various elements.\n",
    "\n",
    "Build a new dataframe as :\n",
    "\n",
    "|mobile_name|rate|\n",
    "|---|---|---|\n",
    "|Apple iPhone 6S|90%|\n",
    "|...|...|\n",
    "|..|..|\n",
    "|.|.|\n",
    "\n",
    "let's start by explore the structure of the page"
   ]
  },
  {
   "cell_type": "code",
   "execution_count": 255,
   "metadata": {},
   "outputs": [],
   "source": [
    "import requests\n",
    "import re\n",
    "import pandas as pd"
   ]
  },
  {
   "cell_type": "code",
   "execution_count": null,
   "metadata": {},
   "outputs": [],
   "source": [
    "## Step 1 : Download Html page "
   ]
  },
  {
   "cell_type": "code",
   "execution_count": null,
   "metadata": {},
   "outputs": [],
   "source": []
  },
  {
   "cell_type": "code",
   "execution_count": 289,
   "metadata": {},
   "outputs": [],
   "source": [
    "## Step 2 : Parsing data"
   ]
  },
  {
   "cell_type": "code",
   "execution_count": null,
   "metadata": {},
   "outputs": [],
   "source": []
  },
  {
   "cell_type": "code",
   "execution_count": null,
   "metadata": {},
   "outputs": [],
   "source": [
    "## Step 3 : Save data in dataframe"
   ]
  },
  {
   "cell_type": "code",
   "execution_count": null,
   "metadata": {},
   "outputs": [],
   "source": []
  }
 ],
 "metadata": {
  "kernelspec": {
   "display_name": "Python 3",
   "language": "python",
   "name": "python3"
  },
  "language_info": {
   "codemirror_mode": {
    "name": "ipython",
    "version": 3
   },
   "file_extension": ".py",
   "mimetype": "text/x-python",
   "name": "python",
   "nbconvert_exporter": "python",
   "pygments_lexer": "ipython3",
   "version": "3.6.5"
  }
 },
 "nbformat": 4,
 "nbformat_minor": 2
}
